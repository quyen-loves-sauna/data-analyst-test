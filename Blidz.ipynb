{
 "cells": [
  {
   "cell_type": "code",
   "execution_count": 1,
   "id": "ea04c63b",
   "metadata": {},
   "outputs": [],
   "source": [
    "%%capture\n",
    "import numpy as np\n",
    "import pandas as pd\n",
    "import matplotlib.pyplot as plt\n",
    "import seaborn as sns\n",
    "import datetime as dt\n",
    "# Set style\n",
    "plt.style.use('fivethirtyeight')"
   ]
  },
  {
   "cell_type": "markdown",
   "id": "e8a4a59c",
   "metadata": {},
   "source": [
    "# Data Importing"
   ]
  },
  {
   "cell_type": "code",
   "execution_count": 2,
   "id": "6c87510e",
   "metadata": {},
   "outputs": [
    {
     "data": {
      "text/plain": [
       "Index(['order_id', 'timestamp', 'user_id', 'price', 'currency'], dtype='object')"
      ]
     },
     "execution_count": 2,
     "metadata": {},
     "output_type": "execute_result"
    }
   ],
   "source": [
    "df = pd.read_csv('august_new_user.csv')\n",
    "orders = pd.read_csv('august_orders.csv')\n",
    "orders.columns"
   ]
  },
  {
   "cell_type": "code",
   "execution_count": 3,
   "id": "f984fa1b",
   "metadata": {},
   "outputs": [
    {
     "data": {
      "text/html": [
       "<div>\n",
       "<style scoped>\n",
       "    .dataframe tbody tr th:only-of-type {\n",
       "        vertical-align: middle;\n",
       "    }\n",
       "\n",
       "    .dataframe tbody tr th {\n",
       "        vertical-align: top;\n",
       "    }\n",
       "\n",
       "    .dataframe thead th {\n",
       "        text-align: right;\n",
       "    }\n",
       "</style>\n",
       "<table border=\"1\" class=\"dataframe\">\n",
       "  <thead>\n",
       "    <tr style=\"text-align: right;\">\n",
       "      <th></th>\n",
       "      <th>user_id;country;platform;region;install_date;registration_method</th>\n",
       "    </tr>\n",
       "  </thead>\n",
       "  <tbody>\n",
       "    <tr>\n",
       "      <th>0</th>\n",
       "      <td>6308043896014c73dcf32a31;United States;Android...</td>\n",
       "    </tr>\n",
       "    <tr>\n",
       "      <th>1</th>\n",
       "      <td>6306db81369dcd076fe633a9;United States;Android...</td>\n",
       "    </tr>\n",
       "    <tr>\n",
       "      <th>2</th>\n",
       "      <td>63088574369dcd2015e63576;United States;Android...</td>\n",
       "    </tr>\n",
       "    <tr>\n",
       "      <th>3</th>\n",
       "      <td>6305ca8e96014c4c97f32c8c;United States;Android...</td>\n",
       "    </tr>\n",
       "    <tr>\n",
       "      <th>4</th>\n",
       "      <td>6308db02624c2649e15a5bac;United States;Android...</td>\n",
       "    </tr>\n",
       "  </tbody>\n",
       "</table>\n",
       "</div>"
      ],
      "text/plain": [
       "  user_id;country;platform;region;install_date;registration_method\n",
       "0  6308043896014c73dcf32a31;United States;Android...              \n",
       "1  6306db81369dcd076fe633a9;United States;Android...              \n",
       "2  63088574369dcd2015e63576;United States;Android...              \n",
       "3  6305ca8e96014c4c97f32c8c;United States;Android...              \n",
       "4  6308db02624c2649e15a5bac;United States;Android...              "
      ]
     },
     "execution_count": 3,
     "metadata": {},
     "output_type": "execute_result"
    }
   ],
   "source": [
    "df.head(5)"
   ]
  },
  {
   "cell_type": "markdown",
   "id": "0adbccfd",
   "metadata": {},
   "source": [
    "# Data Wrangling"
   ]
  },
  {
   "cell_type": "code",
   "execution_count": 4,
   "id": "66d9da43",
   "metadata": {},
   "outputs": [],
   "source": [
    "#cleaning the users dataset\n",
    "users = df['user_id;country;platform;region;install_date;registration_method'].str.split(';', expand=True).rename(columns={0:'user_id', 1:'country', 2:'platform',3:'region', 4:'install_date', 5:'registration_method'})"
   ]
  },
  {
   "cell_type": "code",
   "execution_count": 5,
   "id": "5fea3858",
   "metadata": {},
   "outputs": [],
   "source": [
    "#merging users dataset to orders dataset\n",
    "#and format the datetime\n",
    "data_1 = users.merge(orders, how='inner', on =['user_id'])\n",
    "data_1['install_date'] = pd.to_datetime(data_1['install_date'])\n",
    "data_1['timestamp'] = pd.to_datetime(data_1['timestamp'])\n",
    "data_1['timestamp'] = data_1['timestamp'].dt.strftime('%Y-%m-%d %H:%M:%S')\n",
    "data_1['install_date'] = data_1['install_date'].dt.strftime('%Y-%m-%d %H:%M:%S')\n",
    "data_1['install_date'] = pd.to_datetime(data_1['install_date'])\n",
    "data_1['timestamp'] = pd.to_datetime(data_1['timestamp'])"
   ]
  },
  {
   "cell_type": "code",
   "execution_count": 6,
   "id": "0a3c8905",
   "metadata": {
    "scrolled": false
   },
   "outputs": [
    {
     "data": {
      "text/html": [
       "<div>\n",
       "<style scoped>\n",
       "    .dataframe tbody tr th:only-of-type {\n",
       "        vertical-align: middle;\n",
       "    }\n",
       "\n",
       "    .dataframe tbody tr th {\n",
       "        vertical-align: top;\n",
       "    }\n",
       "\n",
       "    .dataframe thead th {\n",
       "        text-align: right;\n",
       "    }\n",
       "</style>\n",
       "<table border=\"1\" class=\"dataframe\">\n",
       "  <thead>\n",
       "    <tr style=\"text-align: right;\">\n",
       "      <th></th>\n",
       "      <th>user_id</th>\n",
       "      <th>country</th>\n",
       "      <th>platform</th>\n",
       "      <th>region</th>\n",
       "      <th>install_date</th>\n",
       "      <th>registration_method</th>\n",
       "      <th>order_id</th>\n",
       "      <th>timestamp</th>\n",
       "      <th>price</th>\n",
       "      <th>currency</th>\n",
       "    </tr>\n",
       "  </thead>\n",
       "  <tbody>\n",
       "    <tr>\n",
       "      <th>0</th>\n",
       "      <td>62fb16bd96014c22dbc3ed86</td>\n",
       "      <td>United States</td>\n",
       "      <td>Android</td>\n",
       "      <td>Texas</td>\n",
       "      <td>2022-08-15 23:02:09</td>\n",
       "      <td>email</td>\n",
       "      <td>62fb1bfd624c265b04962b72</td>\n",
       "      <td>2022-08-16 04:24:29</td>\n",
       "      <td>0.75</td>\n",
       "      <td>USD</td>\n",
       "    </tr>\n",
       "    <tr>\n",
       "      <th>1</th>\n",
       "      <td>62f26e2896014c0e8652b6e9</td>\n",
       "      <td>United States</td>\n",
       "      <td>Android</td>\n",
       "      <td>Kentucky</td>\n",
       "      <td>2022-08-09 10:24:42</td>\n",
       "      <td>facebook</td>\n",
       "      <td>62f27282369dcd0856cf47f5</td>\n",
       "      <td>2022-08-09 14:43:14</td>\n",
       "      <td>7.48</td>\n",
       "      <td>USD</td>\n",
       "    </tr>\n",
       "    <tr>\n",
       "      <th>2</th>\n",
       "      <td>62f26e2896014c0e8652b6e9</td>\n",
       "      <td>United States</td>\n",
       "      <td>Android</td>\n",
       "      <td>Kentucky</td>\n",
       "      <td>2022-08-09 10:24:42</td>\n",
       "      <td>facebook</td>\n",
       "      <td>62f27ab1369dcd7b9bcf45e0</td>\n",
       "      <td>2022-08-09 15:18:09</td>\n",
       "      <td>10.50</td>\n",
       "      <td>USD</td>\n",
       "    </tr>\n",
       "    <tr>\n",
       "      <th>3</th>\n",
       "      <td>62f26e2896014c0e8652b6e9</td>\n",
       "      <td>United States</td>\n",
       "      <td>Android</td>\n",
       "      <td>Kentucky</td>\n",
       "      <td>2022-08-09 10:24:42</td>\n",
       "      <td>facebook</td>\n",
       "      <td>62f27e8a96014c097c52b693</td>\n",
       "      <td>2022-08-09 15:34:33</td>\n",
       "      <td>37.18</td>\n",
       "      <td>USD</td>\n",
       "    </tr>\n",
       "    <tr>\n",
       "      <th>4</th>\n",
       "      <td>62ec167596014c344b7367de</td>\n",
       "      <td>United States</td>\n",
       "      <td>Android</td>\n",
       "      <td>Georgia</td>\n",
       "      <td>2022-08-04 14:56:54</td>\n",
       "      <td>email</td>\n",
       "      <td>62ec1b50624c263c980ee071</td>\n",
       "      <td>2022-08-04 19:17:36</td>\n",
       "      <td>5.65</td>\n",
       "      <td>USD</td>\n",
       "    </tr>\n",
       "    <tr>\n",
       "      <th>5</th>\n",
       "      <td>6304c492624c261fb73547eb</td>\n",
       "      <td>United States</td>\n",
       "      <td>Android</td>\n",
       "      <td>Georgia</td>\n",
       "      <td>2022-08-23 08:14:15</td>\n",
       "      <td>facebook</td>\n",
       "      <td>6304c72c369dcd0188e63298</td>\n",
       "      <td>2022-08-23 12:25:16</td>\n",
       "      <td>7.76</td>\n",
       "      <td>USD</td>\n",
       "    </tr>\n",
       "    <tr>\n",
       "      <th>6</th>\n",
       "      <td>6304c492624c261fb73547eb</td>\n",
       "      <td>United States</td>\n",
       "      <td>Android</td>\n",
       "      <td>Georgia</td>\n",
       "      <td>2022-08-23 08:14:15</td>\n",
       "      <td>facebook</td>\n",
       "      <td>63061e45624c266eee3545b7</td>\n",
       "      <td>2022-08-24 12:49:09</td>\n",
       "      <td>0.00</td>\n",
       "      <td>USD</td>\n",
       "    </tr>\n",
       "    <tr>\n",
       "      <th>7</th>\n",
       "      <td>6304c492624c261fb73547eb</td>\n",
       "      <td>United States</td>\n",
       "      <td>Android</td>\n",
       "      <td>Georgia</td>\n",
       "      <td>2022-08-23 08:14:15</td>\n",
       "      <td>facebook</td>\n",
       "      <td>63061fd296014c27ebf32aa4</td>\n",
       "      <td>2022-08-24 12:55:46</td>\n",
       "      <td>0.00</td>\n",
       "      <td>USD</td>\n",
       "    </tr>\n",
       "    <tr>\n",
       "      <th>8</th>\n",
       "      <td>62f575b8624c265437df0bb0</td>\n",
       "      <td>United States</td>\n",
       "      <td>Web</td>\n",
       "      <td>Mississippi</td>\n",
       "      <td>2022-08-18 17:43:08</td>\n",
       "      <td>email</td>\n",
       "      <td>62f576e6624c2606e0df0a44</td>\n",
       "      <td>2022-08-11 21:38:46</td>\n",
       "      <td>9.93</td>\n",
       "      <td>USD</td>\n",
       "    </tr>\n",
       "    <tr>\n",
       "      <th>9</th>\n",
       "      <td>62f575b8624c265437df0bb0</td>\n",
       "      <td>United States</td>\n",
       "      <td>Web</td>\n",
       "      <td>Mississippi</td>\n",
       "      <td>2022-08-18 17:43:08</td>\n",
       "      <td>email</td>\n",
       "      <td>62fedf4096014c1d17491d1b</td>\n",
       "      <td>2022-08-19 00:54:24</td>\n",
       "      <td>3.35</td>\n",
       "      <td>USD</td>\n",
       "    </tr>\n",
       "  </tbody>\n",
       "</table>\n",
       "</div>"
      ],
      "text/plain": [
       "                    user_id        country platform       region  \\\n",
       "0  62fb16bd96014c22dbc3ed86  United States  Android        Texas   \n",
       "1  62f26e2896014c0e8652b6e9  United States  Android     Kentucky   \n",
       "2  62f26e2896014c0e8652b6e9  United States  Android     Kentucky   \n",
       "3  62f26e2896014c0e8652b6e9  United States  Android     Kentucky   \n",
       "4  62ec167596014c344b7367de  United States  Android      Georgia   \n",
       "5  6304c492624c261fb73547eb  United States  Android      Georgia   \n",
       "6  6304c492624c261fb73547eb  United States  Android      Georgia   \n",
       "7  6304c492624c261fb73547eb  United States  Android      Georgia   \n",
       "8  62f575b8624c265437df0bb0  United States      Web  Mississippi   \n",
       "9  62f575b8624c265437df0bb0  United States      Web  Mississippi   \n",
       "\n",
       "         install_date registration_method                  order_id  \\\n",
       "0 2022-08-15 23:02:09               email  62fb1bfd624c265b04962b72   \n",
       "1 2022-08-09 10:24:42            facebook  62f27282369dcd0856cf47f5   \n",
       "2 2022-08-09 10:24:42            facebook  62f27ab1369dcd7b9bcf45e0   \n",
       "3 2022-08-09 10:24:42            facebook  62f27e8a96014c097c52b693   \n",
       "4 2022-08-04 14:56:54               email  62ec1b50624c263c980ee071   \n",
       "5 2022-08-23 08:14:15            facebook  6304c72c369dcd0188e63298   \n",
       "6 2022-08-23 08:14:15            facebook  63061e45624c266eee3545b7   \n",
       "7 2022-08-23 08:14:15            facebook  63061fd296014c27ebf32aa4   \n",
       "8 2022-08-18 17:43:08               email  62f576e6624c2606e0df0a44   \n",
       "9 2022-08-18 17:43:08               email  62fedf4096014c1d17491d1b   \n",
       "\n",
       "            timestamp  price currency  \n",
       "0 2022-08-16 04:24:29   0.75      USD  \n",
       "1 2022-08-09 14:43:14   7.48      USD  \n",
       "2 2022-08-09 15:18:09  10.50      USD  \n",
       "3 2022-08-09 15:34:33  37.18      USD  \n",
       "4 2022-08-04 19:17:36   5.65      USD  \n",
       "5 2022-08-23 12:25:16   7.76      USD  \n",
       "6 2022-08-24 12:49:09   0.00      USD  \n",
       "7 2022-08-24 12:55:46   0.00      USD  \n",
       "8 2022-08-11 21:38:46   9.93      USD  \n",
       "9 2022-08-19 00:54:24   3.35      USD  "
      ]
     },
     "execution_count": 6,
     "metadata": {},
     "output_type": "execute_result"
    }
   ],
   "source": [
    "data_1.head(10)"
   ]
  },
  {
   "cell_type": "markdown",
   "id": "1d4335cf",
   "metadata": {},
   "source": [
    "# Data Analysis"
   ]
  },
  {
   "cell_type": "code",
   "execution_count": 7,
   "id": "c53b9de8",
   "metadata": {},
   "outputs": [],
   "source": [
    "#filter out users who have installed the app in August\n",
    "data_1 = data_1[data_1['install_date'] >= '2022-08-01 00:58:00']"
   ]
  },
  {
   "cell_type": "code",
   "execution_count": 8,
   "id": "fb79127b",
   "metadata": {},
   "outputs": [
    {
     "name": "stdout",
     "output_type": "stream",
     "text": [
      "Total number of new users in August:  4674\n"
     ]
    }
   ],
   "source": [
    "print('Total number of new users in August: ',len(data_1['user_id'].unique()))"
   ]
  },
  {
   "cell_type": "code",
   "execution_count": 9,
   "id": "0c8189ca",
   "metadata": {
    "scrolled": false
   },
   "outputs": [
    {
     "name": "stderr",
     "output_type": "stream",
     "text": [
      "C:\\Users\\msquy\\AppData\\Local\\Temp/ipykernel_6684/572600048.py:19: UserWarning: FixedFormatter should only be used together with FixedLocator\n",
      "  axes[0].set_xticklabels(count_user_co.index, rotation=90)\n",
      "C:\\Users\\msquy\\AppData\\Local\\Temp/ipykernel_6684/572600048.py:25: UserWarning: FixedFormatter should only be used together with FixedLocator\n",
      "  axes[1].set_xticklabels(count_ord_co.index, rotation=90)\n",
      "C:\\Users\\msquy\\AppData\\Local\\Temp/ipykernel_6684/572600048.py:31: UserWarning: FixedFormatter should only be used together with FixedLocator\n",
      "  axes[2].set_xticklabels(avg_ord_co.index, rotation=90)\n"
     ]
    },
    {
     "data": {
      "text/plain": [
       "Text(0, 0.5, 'Average order')"
      ]
     },
     "execution_count": 9,
     "metadata": {},
     "output_type": "execute_result"
    },
    {
     "data": {
      "image/png": "[encoded data removed]",
      "text/plain": [
       "<Figure size 720x2016 with 3 Axes>"
      ]
     },
     "metadata": {},
     "output_type": "display_data"
    }
   ],
   "source": [
    "#number of new users in each country\n",
    "count_user_co= data_1.groupby('country')['user_id'].nunique()\n",
    "count_user_co= count_user_co.sort_values(ascending=False)\n",
    "\n",
    "#number of orders per country\n",
    "count_ord_co=data_1.groupby('country')['order_id'].count()\n",
    "count_ord_co= count_ord_co.sort_values(ascending=False)\n",
    "\n",
    "#average order value per region\n",
    "avg_ord_co = data_1.groupby('country')['price'].mean()\n",
    "avg_ord_co = avg_ord_co.sort_values(ascending=False)\n",
    "\n",
    "\n",
    "# Visualising data\n",
    "fig, axes = plt.subplots(3, 1, figsize = (10,28))\n",
    "axes[0].set_title('Number of new users in each country', size = 15)\n",
    "axes[0].bar(count_user_co.index, count_user_co.values)\n",
    "axes[0].set_xlabel('country')\n",
    "axes[0].set_xticklabels(count_user_co.index, rotation=90)\n",
    "axes[0].set_ylabel('Number of users')\n",
    "\n",
    "axes[1].set_title('Number of orders per country', size = 15)\n",
    "axes[1].bar(count_ord_co.index, count_ord_co.values)\n",
    "axes[1].set_xlabel('country')\n",
    "axes[1].set_xticklabels(count_ord_co.index, rotation=90)\n",
    "axes[1].set_ylabel('Number of orders')\n",
    "\n",
    "axes[2].set_title('Average order value per country', size = 15)\n",
    "axes[2].bar(avg_ord_co.index, avg_ord_co.values)\n",
    "axes[2].set_xlabel('country')\n",
    "axes[2].set_xticklabels(avg_ord_co.index, rotation=90)\n",
    "axes[2].set_ylabel('Average order')\n"
   ]
  },
  {
   "cell_type": "markdown",
   "id": "dc4d6707",
   "metadata": {},
   "source": [
    "Pakistan has only 1 order but with very high AOV. 99% of the installation happened in US. "
   ]
  },
  {
   "cell_type": "code",
   "execution_count": 10,
   "id": "ef8784f8",
   "metadata": {},
   "outputs": [
    {
     "data": {
      "text/html": [
       "<div>\n",
       "<style scoped>\n",
       "    .dataframe tbody tr th:only-of-type {\n",
       "        vertical-align: middle;\n",
       "    }\n",
       "\n",
       "    .dataframe tbody tr th {\n",
       "        vertical-align: top;\n",
       "    }\n",
       "\n",
       "    .dataframe thead th {\n",
       "        text-align: right;\n",
       "    }\n",
       "</style>\n",
       "<table border=\"1\" class=\"dataframe\">\n",
       "  <thead>\n",
       "    <tr style=\"text-align: right;\">\n",
       "      <th></th>\n",
       "      <th>price</th>\n",
       "    </tr>\n",
       "  </thead>\n",
       "  <tbody>\n",
       "    <tr>\n",
       "      <th>mean</th>\n",
       "      <td>4.771019</td>\n",
       "    </tr>\n",
       "    <tr>\n",
       "      <th>median</th>\n",
       "      <td>0.750000</td>\n",
       "    </tr>\n",
       "    <tr>\n",
       "      <th>std</th>\n",
       "      <td>15.430440</td>\n",
       "    </tr>\n",
       "  </tbody>\n",
       "</table>\n",
       "</div>"
      ],
      "text/plain": [
       "            price\n",
       "mean     4.771019\n",
       "median   0.750000\n",
       "std     15.430440"
      ]
     },
     "execution_count": 10,
     "metadata": {},
     "output_type": "execute_result"
    }
   ],
   "source": [
    "# Aggregate the data\n",
    "purchase_summary = data_1.agg({'price': ['mean', 'median', 'std']})\n",
    "purchase_summary"
   ]
  },
  {
   "cell_type": "markdown",
   "id": "d864e0e1",
   "metadata": {},
   "source": [
    "# Time decay of conversion"
   ]
  },
  {
   "cell_type": "code",
   "execution_count": 11,
   "id": "3eb6de6d",
   "metadata": {},
   "outputs": [
    {
     "name": "stderr",
     "output_type": "stream",
     "text": [
      "C:\\Users\\msquy\\AppData\\Local\\Temp/ipykernel_6684/3106967349.py:2: SettingWithCopyWarning: \n",
      "A value is trying to be set on a copy of a slice from a DataFrame.\n",
      "Try using .loc[row_indexer,col_indexer] = value instead\n",
      "\n",
      "See the caveats in the documentation: https://pandas.pydata.org/pandas-docs/stable/user_guide/indexing.html#returning-a-view-versus-a-copy\n",
      "  df_buy['diff_time'] = df_buy['timestamp']-df_buy['install_date']\n",
      "C:\\Users\\msquy\\AppData\\Local\\Temp/ipykernel_6684/3106967349.py:5: SettingWithCopyWarning: \n",
      "A value is trying to be set on a copy of a slice from a DataFrame.\n",
      "Try using .loc[row_indexer,col_indexer] = value instead\n",
      "\n",
      "See the caveats in the documentation: https://pandas.pydata.org/pandas-docs/stable/user_guide/indexing.html#returning-a-view-versus-a-copy\n",
      "  df_buy['diff_time'] = df_buy['diff_time'].map(lambda x : x.days)\n",
      "C:\\Users\\msquy\\AppData\\Local\\Temp/ipykernel_6684/3106967349.py:10: SettingWithCopyWarning: \n",
      "A value is trying to be set on a copy of a slice from a DataFrame.\n",
      "Try using .loc[row_indexer,col_indexer] = value instead\n",
      "\n",
      "See the caveats in the documentation: https://pandas.pydata.org/pandas-docs/stable/user_guide/indexing.html#returning-a-view-versus-a-copy\n",
      "  df_buy['time_bins'] = pd.cut(df_buy['diff_time'],bins=bins,include_lowest=False)\n"
     ]
    },
    {
     "data": {
      "image/png": "[encoded data removed]",
      "text/plain": [
       "<Figure size 2000x800 with 1 Axes>"
      ]
     },
     "metadata": {},
     "output_type": "display_data"
    }
   ],
   "source": [
    "df_buy = data_1[['user_id', 'install_date', 'timestamp', 'price']]\n",
    "df_buy['diff_time'] = df_buy['timestamp']-df_buy['install_date']\n",
    "\n",
    "# Time format conversion, unit: hour\n",
    "df_buy['diff_time'] = df_buy['diff_time'].map(lambda x : x.days)\n",
    "\n",
    "\n",
    "# Group 4 time windows\n",
    "bins = [0,7,14,21,30]\n",
    "df_buy['time_bins'] = pd.cut(df_buy['diff_time'],bins=bins,include_lowest=False)\n",
    "\n",
    "# Statistics by group, drawing\n",
    "df = df_buy.groupby('time_bins').user_id.count()\n",
    "\n",
    "plt.figure(figsize=(10,4),dpi=200)\n",
    "plt.subplot(111,facecolor=\"#F0F0F0\")\n",
    "\n",
    "rects = plt.bar(range(0,len(df.index)),df.values,color=\"#6462cc\")\n",
    "plt.xticks(range(0,len(df.index)),df.index)\n",
    "plt.xlabel(\"Week Time Period\",fontsize=10)\n",
    "plt.title(\"Signup - purchase time interval distribution(within days)\",pad=15,fontsize=12)\n",
    "\n",
    "# Set data label\n",
    "count=0\n",
    "Sum=df.sum()\n",
    "for rect in rects:\n",
    "    height = rect.get_height()   \n",
    "    rect_x = rect.get_x()        \n",
    "    \n",
    "    plt.text(rect.get_x() + rect.get_width()/2,height+50,str(height)+'people', ha='center',fontsize=9)\n",
    "    plt.text(rect.get_x() + rect.get_width()/2,height+300,str('{:.2f}'.format(df.values[count]/Sum *100)) + \"%\",ha='center',fontsize=9) \n",
    "    count=count+1"
   ]
  },
  {
   "cell_type": "markdown",
   "id": "2d049fe3",
   "metadata": {},
   "source": [
    "As can be seen from the above figure, in one month, nearly 68% of users who signed up and completed purchases within 1 week, and only 3% made a purchase over a period of one month after signing up. It can be inferred that the user's intention to purchase is strongest right after registration so it's best to upsell or cross-sale them as much as we can during their first purchase. "
   ]
  },
  {
   "cell_type": "code",
   "execution_count": 12,
   "id": "5b436a38",
   "metadata": {},
   "outputs": [
    {
     "name": "stdout",
     "output_type": "stream",
     "text": [
      "AOV of users who converted within a week:  5.096616446955497\n",
      "AOV of users who converted within 2 weeks:  2.9307023060796626\n",
      "AOV of users who converted within a month:  2.981025641025641\n"
     ]
    }
   ],
   "source": [
    "df_7 = df_buy[df_buy['diff_time'] <=7 ]\n",
    "df_14 = df_buy[(df_buy['diff_time'] > 7) & (df_buy['diff_time'] <=14)]\n",
    "df_30 = df_buy[df_buy['diff_time'] > 14]\n",
    "aov_7 = df_7['price'].mean()\n",
    "aov_14 = df_14['price'].mean()\n",
    "aov_30 = df_30['price'].mean()\n",
    "print('AOV of users who converted within a week: ',aov_7)\n",
    "print('AOV of users who converted within 2 weeks: ',aov_14)\n",
    "print('AOV of users who converted within a month: ',aov_30)"
   ]
  },
  {
   "cell_type": "markdown",
   "id": "726e5485",
   "metadata": {},
   "source": [
    "**The faster they convert, the higher the users are willing to pay**"
   ]
  },
  {
   "cell_type": "markdown",
   "id": "6afa6e0d",
   "metadata": {},
   "source": [
    "# **Repurchase Rate**"
   ]
  },
  {
   "cell_type": "code",
   "execution_count": 13,
   "id": "d34305dc",
   "metadata": {},
   "outputs": [
    {
     "data": {
      "text/plain": [
       "Timestamp('2022-08-31 23:57:39')"
      ]
     },
     "execution_count": 13,
     "metadata": {},
     "output_type": "execute_result"
    }
   ],
   "source": [
    "#set current date\n",
    "current_date = max(data_1['timestamp'])\n",
    "current_date = pd.to_datetime(current_date)\n",
    "current_date"
   ]
  },
  {
   "cell_type": "markdown",
   "id": "0d473804",
   "metadata": {},
   "source": [
    "For the convenience of this analysis, since the dataset contains users from August as a best practice let's determine that the max ``timestamp`` in August is current date or max purchase day to set KPIs. Specifically, I'll calculate the average amount paid per purchase within a user's specific timeframe using the ``timestamp`` as purchase_date from the dataset.\n",
    "\n",
    "Subtract timedelta(days=x) from ``current_date`` to find the last date that we will count purchases from."
   ]
  },
  {
   "cell_type": "code",
   "execution_count": 14,
   "id": "1916387a",
   "metadata": {},
   "outputs": [],
   "source": [
    "#define a function to filter out time decay dataframe\n",
    "from datetime import timedelta\n",
    "def df_purchase_days(df, delta):\n",
    "    # Compute max_purchase_date\n",
    "    max_purchase_date = current_date - timedelta(days=delta)\n",
    "\n",
    "    # Filter to only include users who registered before our max date\n",
    "    df = df[(df.install_date < max_purchase_date)]\n",
    "\n",
    "    \n",
    "    df = df[(df.timestamp <= df.install_date + timedelta(days=delta))]\n",
    "    df['timestamp'] = df.timestamp.apply(lambda ts: ts.strftime('%Y-%m-%d'))\n",
    "    return df"
   ]
  },
  {
   "cell_type": "markdown",
   "id": "102e225e",
   "metadata": {},
   "source": [
    "As the dataset contains 30 days of data, I want to slice the dataset into 2 seperates dataframes which contain the users converting in different timestamp being the first week and the next 3 weeks. For the purpose of repurchase rate calculating, the first week converted user dataframe will be divided into 2 time windows, each of which has a length of 3 days. Likewise, the next-3-week purchaser will be devided in into 3 time windows, with 7-day-period each. \n"
   ]
  },
  {
   "cell_type": "code",
   "execution_count": 15,
   "id": "f99b983a",
   "metadata": {},
   "outputs": [],
   "source": [
    "#assign the time decay purchase to a new dataset\n",
    "df_6 = df_purchase_days(data_1, delta=6)\n",
    "df_21 = df_purchase_days(data_1, delta=21)"
   ]
  },
  {
   "cell_type": "code",
   "execution_count": 16,
   "id": "dc948604",
   "metadata": {},
   "outputs": [
    {
     "data": {
      "text/plain": [
       "'2022-08-31'"
      ]
     },
     "execution_count": 16,
     "metadata": {},
     "output_type": "execute_result"
    }
   ],
   "source": [
    "df_6['timestamp'].max()"
   ]
  },
  {
   "cell_type": "code",
   "execution_count": 17,
   "id": "53890628",
   "metadata": {},
   "outputs": [
    {
     "data": {
      "text/html": [
       "<div>\n",
       "<style scoped>\n",
       "    .dataframe tbody tr th:only-of-type {\n",
       "        vertical-align: middle;\n",
       "    }\n",
       "\n",
       "    .dataframe tbody tr th {\n",
       "        vertical-align: top;\n",
       "    }\n",
       "\n",
       "    .dataframe thead th {\n",
       "        text-align: right;\n",
       "    }\n",
       "</style>\n",
       "<table border=\"1\" class=\"dataframe\">\n",
       "  <thead>\n",
       "    <tr style=\"text-align: right;\">\n",
       "      <th></th>\n",
       "      <th>date</th>\n",
       "      <th>buy_back_rate</th>\n",
       "    </tr>\n",
       "  </thead>\n",
       "  <tbody>\n",
       "    <tr>\n",
       "      <th>0</th>\n",
       "      <td>2022-08-09</td>\n",
       "      <td>0.119247</td>\n",
       "    </tr>\n",
       "    <tr>\n",
       "      <th>1</th>\n",
       "      <td>2022-08-11</td>\n",
       "      <td>0.007767</td>\n",
       "    </tr>\n",
       "  </tbody>\n",
       "</table>\n",
       "</div>"
      ],
      "text/plain": [
       "        date  buy_back_rate\n",
       "0 2022-08-09       0.119247\n",
       "1 2022-08-11       0.007767"
      ]
     },
     "execution_count": 17,
     "metadata": {},
     "output_type": "execute_result"
    }
   ],
   "source": [
    "# Add a new column to set the date of the same time window to the day with the largest date\n",
    "df_6['timestamp'] = pd.to_datetime(df_6['timestamp'])\n",
    "\n",
    "for m, n in zip(range(1, 7), df_6.timestamp.unique()):\n",
    "    if m % 2 == 0:\n",
    "        df_6.loc[((df_6.timestamp + np.timedelta64(0,\"D\"))<= n) & ((df_6.timestamp + np.timedelta64(2,\"D\") >= n)), 'date1'] = n\n",
    "# Group by time window\n",
    "df_buy_back = df_6.groupby('date1').user_id.unique()\n",
    "\n",
    "# Define an empty list, record the corresponding time window and repurchase rate\n",
    "days = []\n",
    "back_buy_rates = []\n",
    "\n",
    "# Calculation of repurchase rate\n",
    "for i in range(0,len(df_buy_back.index)-1):\n",
    "    users = df_buy_back.values[i].tolist()   # Get the user ID of a time window\n",
    "    count=0\n",
    "    \n",
    "    for user in users:\n",
    "        if user in df_buy_back.values[i+1].tolist():    # If the user also consumes in the next time window, count 1\n",
    "            count += 1\n",
    "            \n",
    "    # Calculate the repo rate and record       \n",
    "    buy_back_rate = count/len(users)\n",
    "    back_buy_rates.append(buy_back_rate)\n",
    "    \n",
    "    # Record the corresponding time window information\n",
    "    days.append(df_buy_back.index.tolist()[i])\n",
    "\n",
    "# Generate DataFrame output\n",
    "back_buy_rate = pd.DataFrame({'date': days, 'buy_back_rate': back_buy_rates})\n",
    "\n",
    "back_buy_rate       "
   ]
  },
  {
   "cell_type": "code",
   "execution_count": 18,
   "id": "eee20d0f",
   "metadata": {},
   "outputs": [
    {
     "data": {
      "text/html": [
       "<div>\n",
       "<style scoped>\n",
       "    .dataframe tbody tr th:only-of-type {\n",
       "        vertical-align: middle;\n",
       "    }\n",
       "\n",
       "    .dataframe tbody tr th {\n",
       "        vertical-align: top;\n",
       "    }\n",
       "\n",
       "    .dataframe thead th {\n",
       "        text-align: right;\n",
       "    }\n",
       "</style>\n",
       "<table border=\"1\" class=\"dataframe\">\n",
       "  <thead>\n",
       "    <tr style=\"text-align: right;\">\n",
       "      <th></th>\n",
       "      <th>date</th>\n",
       "      <th>buy_back_rate</th>\n",
       "    </tr>\n",
       "  </thead>\n",
       "  <tbody>\n",
       "    <tr>\n",
       "      <th>0</th>\n",
       "      <td>2022-08-02</td>\n",
       "      <td>0.120755</td>\n",
       "    </tr>\n",
       "    <tr>\n",
       "      <th>1</th>\n",
       "      <td>2022-08-05</td>\n",
       "      <td>0.134551</td>\n",
       "    </tr>\n",
       "    <tr>\n",
       "      <th>2</th>\n",
       "      <td>2022-08-08</td>\n",
       "      <td>0.129412</td>\n",
       "    </tr>\n",
       "    <tr>\n",
       "      <th>3</th>\n",
       "      <td>2022-08-11</td>\n",
       "      <td>0.062500</td>\n",
       "    </tr>\n",
       "    <tr>\n",
       "      <th>4</th>\n",
       "      <td>2022-08-17</td>\n",
       "      <td>0.303797</td>\n",
       "    </tr>\n",
       "    <tr>\n",
       "      <th>5</th>\n",
       "      <td>2022-08-18</td>\n",
       "      <td>0.322835</td>\n",
       "    </tr>\n",
       "  </tbody>\n",
       "</table>\n",
       "</div>"
      ],
      "text/plain": [
       "        date  buy_back_rate\n",
       "0 2022-08-02       0.120755\n",
       "1 2022-08-05       0.134551\n",
       "2 2022-08-08       0.129412\n",
       "3 2022-08-11       0.062500\n",
       "4 2022-08-17       0.303797\n",
       "5 2022-08-18       0.322835"
      ]
     },
     "execution_count": 18,
     "metadata": {},
     "output_type": "execute_result"
    }
   ],
   "source": [
    "df_21['timestamp'] = pd.to_datetime(df_21['timestamp'])\n",
    "\n",
    "for m, n in zip(range(1, 22), df_21.timestamp.unique()):\n",
    "    if m % 3 == 0:\n",
    "        df_21.loc[((df_21.timestamp + np.timedelta64(0,\"D\"))<= n) & ((df_21.timestamp + np.timedelta64(2,\"D\") >= n)), 'date1'] = n\n",
    "# Group by time window\n",
    "df_buy_back = df_21.groupby('date1').user_id.unique()\n",
    "\n",
    "# Define an empty list, record the corresponding time window and repurchase rate\n",
    "days = []\n",
    "back_buy_rates = []\n",
    "\n",
    "# Calculation of repurchase rate\n",
    "for i in range(0,len(df_buy_back.index)-1):\n",
    "    users = df_buy_back.values[i].tolist()   # Get the user ID of a time window\n",
    "    count=0\n",
    "    \n",
    "    for user in users:\n",
    "        if user in df_buy_back.values[i+1].tolist():    # If the user also consumes in the next time window, count 1\n",
    "            count += 1\n",
    "            \n",
    "    # Calculate the repo rate and record       \n",
    "    buy_back_rate = count/len(users)\n",
    "    back_buy_rates.append(buy_back_rate)\n",
    "    \n",
    "    # Record the corresponding time window information\n",
    "    days.append(df_buy_back.index.tolist()[i])\n",
    "\n",
    "# Generate DataFrame output\n",
    "back_buy_rate = pd.DataFrame({'date': days, 'buy_back_rate': back_buy_rates})\n",
    "\n",
    "back_buy_rate       "
   ]
  },
  {
   "cell_type": "markdown",
   "id": "3a69dd60",
   "metadata": {},
   "source": [
    "Summary of repurchase rate: the first group of users, which is the people who made the purchase within a week of registration, the repurchase rate in the first time window is very low ranging from (1-10%); in the second time window-the users who converted in the next few weeks after registration, the repurchase rate is much higher, indicating that the longer they convert, the more likely they make a second purchase. "
   ]
  },
  {
   "cell_type": "markdown",
   "id": "24035286",
   "metadata": {},
   "source": [
    "**Conversion rate**"
   ]
  },
  {
   "cell_type": "markdown",
   "id": "c7c364c0",
   "metadata": {},
   "source": [
    "How do we define conversion rate here? is it followed by a view or click? or does it happen at product level or campaign level. In this case, I assume the conversions happen after the users have signed up and completed an order within 24 hours."
   ]
  },
  {
   "cell_type": "code",
   "execution_count": 19,
   "id": "d2eeac1d",
   "metadata": {},
   "outputs": [],
   "source": [
    "# Compute max_purchase_date\n",
    "max_purchase_date = current_date - timedelta(days=1)\n",
    "\n",
    "    # Filter to only include users who registered before our max date\n",
    "purchase_after_1 = data_1[(data_1.install_date < max_purchase_date)]\n",
    "purchase_after_1 = purchase_after_1[(purchase_after_1.timestamp <=\n",
    "                                         purchase_after_1.install_date + \n",
    "                                         timedelta(days=1))]\n",
    "   "
   ]
  },
  {
   "cell_type": "code",
   "execution_count": 20,
   "id": "4e863c11",
   "metadata": {},
   "outputs": [
    {
     "name": "stdout",
     "output_type": "stream",
     "text": [
      "73.15 %\n"
     ]
    }
   ],
   "source": [
    "# Calculate the number of people who signed up\n",
    "total = data_1['user_id'].nunique()\n",
    "# Calculate the number of people who converted after one day\n",
    "converted = purchase_after_1['user_id'].nunique()\n",
    "con_rate = converted/total\n",
    "print(round(con_rate *100, 2), \"%\")"
   ]
  },
  {
   "cell_type": "code",
   "execution_count": 21,
   "id": "ad42ea53",
   "metadata": {},
   "outputs": [],
   "source": [
    "date_df = pd.DataFrame(pd.to_datetime(data_1.timestamp))"
   ]
  },
  {
   "cell_type": "code",
   "execution_count": 22,
   "id": "8add8fe7",
   "metadata": {},
   "outputs": [
    {
     "data": {
      "text/plain": [
       "([<matplotlib.axis.XTick at 0x1d950ef78e0>,\n",
       "  <matplotlib.axis.XTick at 0x1d950ef78b0>,\n",
       "  <matplotlib.axis.XTick at 0x1d950eee820>,\n",
       "  <matplotlib.axis.XTick at 0x1d950ee1e80>,\n",
       "  <matplotlib.axis.XTick at 0x1d950ecc880>,\n",
       "  <matplotlib.axis.XTick at 0x1d950ec90d0>,\n",
       "  <matplotlib.axis.XTick at 0x1d950ec9760>],\n",
       " [Text(0, 0, 'Mon'),\n",
       "  Text(1, 0, 'Tue'),\n",
       "  Text(2, 0, 'Wed'),\n",
       "  Text(3, 0, 'Thu'),\n",
       "  Text(4, 0, 'Fri'),\n",
       "  Text(5, 0, 'Sat'),\n",
       "  Text(6, 0, 'Sun')])"
      ]
     },
     "execution_count": 22,
     "metadata": {},
     "output_type": "execute_result"
    },
    {
     "data": {
      "image/png": "[encoded data removed]",
      "text/plain": [
       "<Figure size 432x288 with 1 Axes>"
      ]
     },
     "metadata": {},
     "output_type": "display_data"
    }
   ],
   "source": [
    "date_df.groupby(date_df.timestamp.dt.dayofweek).count().plot(kind='bar', legend=False, title='Orders Per Day of Week')\n",
    "plt.xticks(range(7), (\"Mon\", \"Tue\", \"Wed\", \"Thu\", \"Fri\", \"Sat\", \"Sun\"))"
   ]
  },
  {
   "cell_type": "code",
   "execution_count": 23,
   "id": "60c40eb4",
   "metadata": {},
   "outputs": [],
   "source": [
    "data_1['tod'] = data_1.timestamp.apply(lambda ts: ts.strftime('%H'))"
   ]
  },
  {
   "cell_type": "code",
   "execution_count": 24,
   "id": "d6eecde9",
   "metadata": {},
   "outputs": [
    {
     "data": {
      "text/plain": [
       "<AxesSubplot:title={'center':'Orders By Hours of Day'}, xlabel='tod'>"
      ]
     },
     "execution_count": 24,
     "metadata": {},
     "output_type": "execute_result"
    },
    {
     "data": {
      "image/png": "[encoded data removed]",
      "text/plain": [
       "<Figure size 432x288 with 1 Axes>"
      ]
     },
     "metadata": {},
     "output_type": "display_data"
    }
   ],
   "source": [
    "data_1.groupby('tod')['timestamp'].count().plot(kind='bar', legend=False, title='Orders By Hours of Day')"
   ]
  },
  {
   "cell_type": "code",
   "execution_count": 25,
   "id": "a59fd8b5",
   "metadata": {},
   "outputs": [],
   "source": [
    "data_1['date_purchase'] = data_1.timestamp.apply(lambda ts: ts.strftime('%m-%d'))\n",
    "data_1['date_install'] = data_1.install_date.apply(lambda ts: ts.strftime('%m-%d'))"
   ]
  },
  {
   "cell_type": "code",
   "execution_count": 26,
   "id": "b91bacc3",
   "metadata": {},
   "outputs": [
    {
     "data": {
      "text/html": [
       "<div>\n",
       "<style scoped>\n",
       "    .dataframe tbody tr th:only-of-type {\n",
       "        vertical-align: middle;\n",
       "    }\n",
       "\n",
       "    .dataframe tbody tr th {\n",
       "        vertical-align: top;\n",
       "    }\n",
       "\n",
       "    .dataframe thead th {\n",
       "        text-align: right;\n",
       "    }\n",
       "</style>\n",
       "<table border=\"1\" class=\"dataframe\">\n",
       "  <thead>\n",
       "    <tr style=\"text-align: right;\">\n",
       "      <th></th>\n",
       "      <th>signup_users</th>\n",
       "      <th>buy_users</th>\n",
       "    </tr>\n",
       "    <tr>\n",
       "      <th>date_install</th>\n",
       "      <th></th>\n",
       "      <th></th>\n",
       "    </tr>\n",
       "  </thead>\n",
       "  <tbody>\n",
       "    <tr>\n",
       "      <th>08-01</th>\n",
       "      <td>200</td>\n",
       "      <td>129.0</td>\n",
       "    </tr>\n",
       "    <tr>\n",
       "      <th>08-02</th>\n",
       "      <td>180</td>\n",
       "      <td>175.0</td>\n",
       "    </tr>\n",
       "    <tr>\n",
       "      <th>08-03</th>\n",
       "      <td>229</td>\n",
       "      <td>198.0</td>\n",
       "    </tr>\n",
       "    <tr>\n",
       "      <th>08-04</th>\n",
       "      <td>181</td>\n",
       "      <td>247.0</td>\n",
       "    </tr>\n",
       "    <tr>\n",
       "      <th>08-05</th>\n",
       "      <td>252</td>\n",
       "      <td>250.0</td>\n",
       "    </tr>\n",
       "    <tr>\n",
       "      <th>08-06</th>\n",
       "      <td>204</td>\n",
       "      <td>259.0</td>\n",
       "    </tr>\n",
       "    <tr>\n",
       "      <th>08-07</th>\n",
       "      <td>215</td>\n",
       "      <td>282.0</td>\n",
       "    </tr>\n",
       "    <tr>\n",
       "      <th>08-08</th>\n",
       "      <td>173</td>\n",
       "      <td>254.0</td>\n",
       "    </tr>\n",
       "    <tr>\n",
       "      <th>08-09</th>\n",
       "      <td>175</td>\n",
       "      <td>231.0</td>\n",
       "    </tr>\n",
       "    <tr>\n",
       "      <th>08-10</th>\n",
       "      <td>142</td>\n",
       "      <td>206.0</td>\n",
       "    </tr>\n",
       "    <tr>\n",
       "      <th>08-11</th>\n",
       "      <td>172</td>\n",
       "      <td>221.0</td>\n",
       "    </tr>\n",
       "    <tr>\n",
       "      <th>08-12</th>\n",
       "      <td>167</td>\n",
       "      <td>256.0</td>\n",
       "    </tr>\n",
       "    <tr>\n",
       "      <th>08-13</th>\n",
       "      <td>185</td>\n",
       "      <td>266.0</td>\n",
       "    </tr>\n",
       "    <tr>\n",
       "      <th>08-14</th>\n",
       "      <td>171</td>\n",
       "      <td>279.0</td>\n",
       "    </tr>\n",
       "    <tr>\n",
       "      <th>08-15</th>\n",
       "      <td>178</td>\n",
       "      <td>263.0</td>\n",
       "    </tr>\n",
       "    <tr>\n",
       "      <th>08-16</th>\n",
       "      <td>197</td>\n",
       "      <td>239.0</td>\n",
       "    </tr>\n",
       "    <tr>\n",
       "      <th>08-17</th>\n",
       "      <td>175</td>\n",
       "      <td>317.0</td>\n",
       "    </tr>\n",
       "    <tr>\n",
       "      <th>08-18</th>\n",
       "      <td>109</td>\n",
       "      <td>213.0</td>\n",
       "    </tr>\n",
       "    <tr>\n",
       "      <th>08-19</th>\n",
       "      <td>112</td>\n",
       "      <td>250.0</td>\n",
       "    </tr>\n",
       "    <tr>\n",
       "      <th>08-20</th>\n",
       "      <td>109</td>\n",
       "      <td>228.0</td>\n",
       "    </tr>\n",
       "    <tr>\n",
       "      <th>08-21</th>\n",
       "      <td>95</td>\n",
       "      <td>221.0</td>\n",
       "    </tr>\n",
       "    <tr>\n",
       "      <th>08-22</th>\n",
       "      <td>80</td>\n",
       "      <td>214.0</td>\n",
       "    </tr>\n",
       "    <tr>\n",
       "      <th>08-23</th>\n",
       "      <td>93</td>\n",
       "      <td>183.0</td>\n",
       "    </tr>\n",
       "    <tr>\n",
       "      <th>08-24</th>\n",
       "      <td>94</td>\n",
       "      <td>206.0</td>\n",
       "    </tr>\n",
       "    <tr>\n",
       "      <th>08-25</th>\n",
       "      <td>120</td>\n",
       "      <td>219.0</td>\n",
       "    </tr>\n",
       "    <tr>\n",
       "      <th>08-26</th>\n",
       "      <td>102</td>\n",
       "      <td>271.0</td>\n",
       "    </tr>\n",
       "    <tr>\n",
       "      <th>08-27</th>\n",
       "      <td>119</td>\n",
       "      <td>228.0</td>\n",
       "    </tr>\n",
       "    <tr>\n",
       "      <th>08-28</th>\n",
       "      <td>100</td>\n",
       "      <td>273.0</td>\n",
       "    </tr>\n",
       "    <tr>\n",
       "      <th>08-29</th>\n",
       "      <td>87</td>\n",
       "      <td>214.0</td>\n",
       "    </tr>\n",
       "    <tr>\n",
       "      <th>08-30</th>\n",
       "      <td>82</td>\n",
       "      <td>209.0</td>\n",
       "    </tr>\n",
       "    <tr>\n",
       "      <th>08-31</th>\n",
       "      <td>58</td>\n",
       "      <td>214.0</td>\n",
       "    </tr>\n",
       "    <tr>\n",
       "      <th>09-01</th>\n",
       "      <td>14</td>\n",
       "      <td>NaN</td>\n",
       "    </tr>\n",
       "    <tr>\n",
       "      <th>09-02</th>\n",
       "      <td>8</td>\n",
       "      <td>NaN</td>\n",
       "    </tr>\n",
       "    <tr>\n",
       "      <th>09-03</th>\n",
       "      <td>14</td>\n",
       "      <td>NaN</td>\n",
       "    </tr>\n",
       "    <tr>\n",
       "      <th>09-04</th>\n",
       "      <td>6</td>\n",
       "      <td>NaN</td>\n",
       "    </tr>\n",
       "    <tr>\n",
       "      <th>09-05</th>\n",
       "      <td>11</td>\n",
       "      <td>NaN</td>\n",
       "    </tr>\n",
       "    <tr>\n",
       "      <th>09-06</th>\n",
       "      <td>8</td>\n",
       "      <td>NaN</td>\n",
       "    </tr>\n",
       "    <tr>\n",
       "      <th>09-07</th>\n",
       "      <td>8</td>\n",
       "      <td>NaN</td>\n",
       "    </tr>\n",
       "    <tr>\n",
       "      <th>09-08</th>\n",
       "      <td>8</td>\n",
       "      <td>NaN</td>\n",
       "    </tr>\n",
       "    <tr>\n",
       "      <th>09-09</th>\n",
       "      <td>11</td>\n",
       "      <td>NaN</td>\n",
       "    </tr>\n",
       "    <tr>\n",
       "      <th>09-10</th>\n",
       "      <td>13</td>\n",
       "      <td>NaN</td>\n",
       "    </tr>\n",
       "    <tr>\n",
       "      <th>09-11</th>\n",
       "      <td>9</td>\n",
       "      <td>NaN</td>\n",
       "    </tr>\n",
       "    <tr>\n",
       "      <th>09-12</th>\n",
       "      <td>8</td>\n",
       "      <td>NaN</td>\n",
       "    </tr>\n",
       "  </tbody>\n",
       "</table>\n",
       "</div>"
      ],
      "text/plain": [
       "              signup_users  buy_users\n",
       "date_install                         \n",
       "08-01                  200      129.0\n",
       "08-02                  180      175.0\n",
       "08-03                  229      198.0\n",
       "08-04                  181      247.0\n",
       "08-05                  252      250.0\n",
       "08-06                  204      259.0\n",
       "08-07                  215      282.0\n",
       "08-08                  173      254.0\n",
       "08-09                  175      231.0\n",
       "08-10                  142      206.0\n",
       "08-11                  172      221.0\n",
       "08-12                  167      256.0\n",
       "08-13                  185      266.0\n",
       "08-14                  171      279.0\n",
       "08-15                  178      263.0\n",
       "08-16                  197      239.0\n",
       "08-17                  175      317.0\n",
       "08-18                  109      213.0\n",
       "08-19                  112      250.0\n",
       "08-20                  109      228.0\n",
       "08-21                   95      221.0\n",
       "08-22                   80      214.0\n",
       "08-23                   93      183.0\n",
       "08-24                   94      206.0\n",
       "08-25                  120      219.0\n",
       "08-26                  102      271.0\n",
       "08-27                  119      228.0\n",
       "08-28                  100      273.0\n",
       "08-29                   87      214.0\n",
       "08-30                   82      209.0\n",
       "08-31                   58      214.0\n",
       "09-01                   14        NaN\n",
       "09-02                    8        NaN\n",
       "09-03                   14        NaN\n",
       "09-04                    6        NaN\n",
       "09-05                   11        NaN\n",
       "09-06                    8        NaN\n",
       "09-07                    8        NaN\n",
       "09-08                    8        NaN\n",
       "09-09                   11        NaN\n",
       "09-10                   13        NaN\n",
       "09-11                    9        NaN\n",
       "09-12                    8        NaN"
      ]
     },
     "execution_count": 26,
     "metadata": {},
     "output_type": "execute_result"
    }
   ],
   "source": [
    "daily_signup = data_1[['user_id','date_install']].groupby('date_install').nunique()\n",
    "daily_signup.rename(columns={'user_id':'signup_users'},inplace=True)\n",
    "daily_purchaser = data_1[['user_id','date_purchase']].groupby('date_purchase').nunique()\n",
    "daily_purchaser.rename(columns={'user_id':'buy_users'},inplace=True)\n",
    "df_target = daily_signup.join(daily_purchaser)\n",
    "df_target"
   ]
  },
  {
   "cell_type": "markdown",
   "id": "22b08f3d",
   "metadata": {},
   "source": [
    "The table above indicates that there are many transactions that happened without the users signing up as there are many days where the number of purchases is larger than the number of signed-up users."
   ]
  },
  {
   "cell_type": "markdown",
   "id": "b69b0581",
   "metadata": {},
   "source": [
    "# AB test"
   ]
  },
  {
   "cell_type": "markdown",
   "id": "bfc045c6",
   "metadata": {},
   "source": [
    "1. What metrics would you suggest to use to evaluate the performance of each variant? Why?\n",
    "\n",
    " - We can make the null hypothesis as: there is no differece of the AOV between the baseline and the four variants. The test statistic we use is the difference between CPA of the 2 groups.\n",
    "   Hypothesis:\n",
    "\n",
    "        - H0: AOV is no difference between the control and the treatments\n",
    "\n",
    "        - H1: AOV in treatments is different than that in the control version\n",
    "\n",
    " - As the test is implemented at the product feed with the focus on reviews and discounted price. I think the most feasible goal of the testing feature is to increase engagement and conversion of the app user. With that said, the out-put metric here is the AOV after all the clicks and conversion and the input metrics are the CTR which is calculated by deviding clicks by impressions, and conversion rate which is coined by the formula: number of buys/number of clicks\n",
    "\n"
   ]
  },
  {
   "cell_type": "markdown",
   "id": "803247f1",
   "metadata": {},
   "source": [
    "2. Randomization unit here is the user. The question here is that do we target all the users or a specific segment of users. To answer this question let's analyze the user journey. Users first to go the app then they browse or search for products they are interested in. After they have found the producs they want to buy, they will add them to their shopping carts. Then they will start the checkout process, note that users will go back and forth between from browsing to checking out. For example, start the checkout and back to product browsing. Now we have a few options for the target population but which one will be the most reasonable for our goal. As the testing feature is right the main page, it makes sense to choose the user who is in the top of funnel as they will see testing feature when they land at the app. As most users belong to this funnel, the number of users for testing should be enough if not plentiful. So the users should be evenly distributed and randomly assigned to the variants right after they open the app. \n",
    "\n",
    "    - Determine the sample size for the experiment or how many users should be allocated randomly to each group is the first thing we need to do. Practical significance boundary is the first thing to consider when calculating the sample size. How much change is the change that matters from a business perspective given all the cost associated when making a change. For our case, how much increase in average order will be considered to outweigh the cost. Let's assume this number to be 1€ increase AOV per user to be practically significant. In other words, if AOV increases by 1€, we could launch the change to production. Next we need to choose the power of the test and significance level. We can use the industry standard 80% power(the probability of rejecting the null hypothesis) and 5% significance level. With these two factors, we could apply the formula that is \n",
    "           - sample size = 16 (based on α = 0.05 and β = 0.8) multiplied by sample variance(standard deviation of the population) divided by δ(delta) square, whereas δ is the difference between treatment and control\n",
    "           - Assume the Std of our dataset is 10 and apply the formula, we need 1600 unique users for each variant\n",
    "                 - We need 6400(1600*4) users in total\n",
    "      -- Need less sample when larger change in δ and more sample when smaller change in power\n",
    "      \n",
    "    - Another important thing is the duration of the test. Bugfree and manageable traffic are the first 2 critical factors we need to consider before choosing how long we run the test.  \n",
    "           "
   ]
  },
  {
   "cell_type": "code",
   "execution_count": 27,
   "id": "73a1f3ef",
   "metadata": {},
   "outputs": [
    {
     "ename": "SyntaxError",
     "evalue": "invalid syntax (Temp/ipykernel_6684/2425608748.py, line 3)",
     "output_type": "error",
     "traceback": [
      "\u001b[1;36m  File \u001b[1;32m\"C:\\Users\\msquy\\AppData\\Local\\Temp/ipykernel_6684/2425608748.py\"\u001b[1;36m, line \u001b[1;32m3\u001b[0m\n\u001b[1;33m    \"metrics\": [\u001b[0m\n\u001b[1;37m             ^\u001b[0m\n\u001b[1;31mSyntaxError\u001b[0m\u001b[1;31m:\u001b[0m invalid syntax\n"
     ]
    }
   ],
   "source": [
    "#this is the data structure to track CTR and conversion rate\n",
    "{\n",
    "    \"data needed\",\n",
    "    \"metrics\": [\n",
    "        {\n",
    "            \"variant\": 1,\n",
    "            \"user\": 1600,\n",
    "            \"impression\": xxxx,\n",
    "            \"click\": xxxx,\n",
    "            \"cart\": xxxx,\n",
    "            \"buy\": xxxx\n",
    "        },\n",
    "        {\n",
    "            \"variant\": 2,\n",
    "            \"user\": 1600,\n",
    "            \"impression\": xxxx,\n",
    "            \"click\": xxxx,\n",
    "            \"cart\": xxxx,\n",
    "            \"buy\": xxxx\n",
    "        },\n",
    "        {\n",
    "            \"variant\": 3,\n",
    "            \"user\": 1600,\n",
    "            \"impression\": xxxx,\n",
    "            \"click\": xxxx,\n",
    "            \"cart\": xxxx,\n",
    "            \"buy\": xxxx\n",
    "            \n",
    "        },\n",
    "        {\n",
    "            \"variant\": 4,\n",
    "            \"user\": 1600,\n",
    "            \"impression\": xxxx,\n",
    "            \"click\": xxxx,\n",
    "            \"cart\": xxxx,\n",
    "            \"buy\": xxxx\n",
    "        }\n",
    "    ]\n",
    "}\n",
    "\n",
    "impression: everytime a product is shown\n",
    "click: when users click on the products\n",
    "cart: add item to cart\n",
    "buy: purchase of goods\n"
   ]
  }
 ],
 "metadata": {
  "kernelspec": {
   "display_name": "Python 3 (ipykernel)",
   "language": "python",
   "name": "python3"
  },
  "language_info": {
   "codemirror_mode": {
    "name": "ipython",
    "version": 3
   },
   "file_extension": ".py",
   "mimetype": "text/x-python",
   "name": "python",
   "nbconvert_exporter": "python",
   "pygments_lexer": "ipython3",
   "version": "3.9.7"
  }
 },
 "nbformat": 4,
 "nbformat_minor": 5
}
